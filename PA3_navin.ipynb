{
 "cells": [
  {
   "cell_type": "code",
   "execution_count": 1,
   "metadata": {},
   "outputs": [],
   "source": [
    "import numpy as np\n",
    "from tqdm import tqdm\n",
    "import gym\n",
    "import math\n",
    "import random\n",
    "import matplotlib.pyplot as plt"
   ]
  },
  {
   "cell_type": "code",
   "execution_count": 2,
   "metadata": {},
   "outputs": [
    {
     "data": {
      "text/plain": [
       "(394, {'prob': 1.0, 'action_mask': array([1, 1, 0, 1, 0, 0], dtype=int8)})"
      ]
     },
     "execution_count": 2,
     "metadata": {},
     "output_type": "execute_result"
    }
   ],
   "source": [
    "env = gym.make('Taxi-v3')\n",
    "num_actions = env.action_space\n",
    "num_obs = env.observation_space\n",
    "R, G, B, Y = env.unwrapped.locs\n",
    "R, G, B, Y = list(R), list(G), list(B), list(Y)\n",
    "env.reset()"
   ]
  },
  {
   "cell_type": "code",
   "execution_count": 14,
   "metadata": {},
   "outputs": [
    {
     "name": "stdout",
     "output_type": "stream",
     "text": [
      "[0, 0] [0, 4] [4, 0] [4, 3]\n"
     ]
    }
   ],
   "source": [
    "def get_passenger_position(passenger_id):\n",
    "    if passenger_id == 0:  \n",
    "        return R\n",
    "    elif passenger_id == 1:  \n",
    "        return G\n",
    "    elif passenger_id == 2:  \n",
    "        return B\n",
    "    elif passenger_id == 3:  \n",
    "        return Y\n",
    "    \n",
    "def get_state(state):\n",
    "    row, col, pass_id, dest_id = env.unwrapped.decode(state)\n",
    "    state = np.asarray((row,col,pass_id,dest_id))\n",
    "    return state\n",
    "\n",
    "print(R,G,B,Y)"
   ]
  },
  {
   "cell_type": "code",
   "execution_count": 4,
   "metadata": {},
   "outputs": [
    {
     "name": "stdout",
     "output_type": "stream",
     "text": [
      "Taxi at [3 4]\n",
      "Passenger at [4, 0]\n",
      "Destination [4, 3]\n",
      "False\n"
     ]
    }
   ],
   "source": [
    "curr_state = get_state(env.s)\n",
    "pass_pose = get_passenger_position(curr_state[2])\n",
    "dest_pose = get_passenger_position(curr_state[3])\n",
    "print(\"Taxi at\",curr_state[0:2])\n",
    "print(\"Passenger at\",dest_pose)\n",
    "print(\"Destination\",pass_pose)\n",
    "next_state, reward, done, _, _ = env.step(1)\n",
    "row, col, pass_id, dest_id = env.unwrapped.decode(next_state)\n",
    "print(done)"
   ]
  },
  {
   "cell_type": "code",
   "execution_count": 5,
   "metadata": {},
   "outputs": [],
   "source": [
    "Q_r = np.zeros((5,5,4))\n",
    "Q_b = np.zeros((5,5,4))\n",
    "Q_g = np.zeros((5,5,4))\n",
    "Q_y = np.zeros((5,5,4))\n",
    "Q = np.zeros((5,5,8))"
   ]
  },
  {
   "cell_type": "code",
   "execution_count": 6,
   "metadata": {},
   "outputs": [],
   "source": [
    "# Set the number of episodes and maximum number of steps per episode\n",
    "EPS = 10000\n",
    "MAX_STEPS = 100\n",
    "\n",
    "# Set the learning rate, discount factor, and exploration rate\n",
    "ALPHA = 0.1\n",
    "GAMMA = 0.99\n",
    "exploration_rate = 1.0\n",
    "MIN_EXP = 0.01\n",
    "EXP_DECAY = 0.01"
   ]
  },
  {
   "cell_type": "code",
   "execution_count": 7,
   "metadata": {},
   "outputs": [],
   "source": [
    "# Four different Q value functions for the four options\n",
    "def choose_action_red(state,Q_r):\n",
    "    action = np.argmax(Q_r[state[0],state[1]])\n",
    "    return action\n",
    "\n",
    "def choose_action_blue(state,Q_b):\n",
    "    action = np.argmax(Q_b[state[0],state[1]])\n",
    "    return action\n",
    "\n",
    "def choose_action_green(state,Q_g):\n",
    "    action = np.argmax(Q_g[state[0],state[1]])\n",
    "    return action\n",
    "\n",
    "def choose_action_yellow(state,Q_y):\n",
    "    action = np.argmax(Q_y[state[0],state[1]])\n",
    "    return action\n",
    "\n",
    "def choose_action(q,state):\n",
    "    if not q[state[0],state[1]].any():\n",
    "        return random.randint(0,7)\n",
    "    action = np.argmax(q[state[0],state[1]])\n",
    "    \n",
    "    if np.random.rand() < exploration_rate:\n",
    "        action = np.random.randint(0,7)\n",
    "        return action\n",
    "    return action\n",
    "\n",
    "    "
   ]
  },
  {
   "cell_type": "code",
   "execution_count": 15,
   "metadata": {},
   "outputs": [],
   "source": [
    "# Options where policy is greedy wrt the corresponding Q Value function\n",
    "def Red(Q_r,state):\n",
    "    optdone = False\n",
    "    optact = choose_action_red(state,Q_r)\n",
    "    if state[0:2] == R:\n",
    "        optdone = True\n",
    "    return optact,optdone\n",
    "\n",
    "def Green(Q_g,state):\n",
    "    optdone = False\n",
    "    optact = choose_action_green(state,Q_g)\n",
    "    if state[0:2] == G:\n",
    "        optdone = True\n",
    "    return optact,optdone\n",
    "    \n",
    "def Yellow(Q_y,state):\n",
    "    optdone = False\n",
    "    optact = choose_action_green(state,Q_y)\n",
    "    if state[0:2] == Y:\n",
    "        optdone = True\n",
    "    return optact,optdone \n",
    "\n",
    "def Blue(Q_b,state):\n",
    "    optdone = False\n",
    "    optact = choose_action_green(state,Q_b)\n",
    "    if state[0:2] == B:\n",
    "        optdone = True\n",
    "    return optact,optdone "
   ]
  },
  {
   "cell_type": "code",
   "execution_count": 16,
   "metadata": {},
   "outputs": [
    {
     "name": "stderr",
     "output_type": "stream",
     "text": [
      "  0%|          | 0/10000 [00:00<?, ?it/s]\n"
     ]
    },
    {
     "ename": "ValueError",
     "evalue": "The truth value of an array with more than one element is ambiguous. Use a.any() or a.all()",
     "output_type": "error",
     "traceback": [
      "\u001b[0;31m---------------------------------------------------------------------------\u001b[0m",
      "\u001b[0;31mValueError\u001b[0m                                Traceback (most recent call last)",
      "Cell \u001b[0;32mIn[16], line 30\u001b[0m\n\u001b[1;32m     27\u001b[0m \u001b[38;5;28;01mwhile\u001b[39;00m (optdone \u001b[38;5;241m==\u001b[39m \u001b[38;5;28;01mFalse\u001b[39;00m):\n\u001b[1;32m     29\u001b[0m     \u001b[38;5;28;01mif\u001b[39;00m action \u001b[38;5;241m==\u001b[39m \u001b[38;5;241m4\u001b[39m:\n\u001b[0;32m---> 30\u001b[0m         optact, optdone \u001b[38;5;241m=\u001b[39m \u001b[43mRed\u001b[49m\u001b[43m(\u001b[49m\u001b[43mQ_r\u001b[49m\u001b[43m,\u001b[49m\u001b[43mstate\u001b[49m\u001b[43m)\u001b[49m \n\u001b[1;32m     31\u001b[0m         q \u001b[38;5;241m=\u001b[39m Q_r\n\u001b[1;32m     33\u001b[0m     \u001b[38;5;28;01mif\u001b[39;00m action \u001b[38;5;241m==\u001b[39m \u001b[38;5;241m5\u001b[39m:\n",
      "Cell \u001b[0;32mIn[15], line 5\u001b[0m, in \u001b[0;36mRed\u001b[0;34m(Q_r, state)\u001b[0m\n\u001b[1;32m      3\u001b[0m optdone \u001b[38;5;241m=\u001b[39m \u001b[38;5;28;01mFalse\u001b[39;00m\n\u001b[1;32m      4\u001b[0m optact \u001b[38;5;241m=\u001b[39m choose_action_red(state,Q_r)\n\u001b[0;32m----> 5\u001b[0m \u001b[38;5;28;01mif\u001b[39;00m state[\u001b[38;5;241m0\u001b[39m:\u001b[38;5;241m2\u001b[39m] \u001b[38;5;241m==\u001b[39m [\u001b[38;5;241m0\u001b[39m, \u001b[38;5;241m0\u001b[39m]:\n\u001b[1;32m      6\u001b[0m     optdone \u001b[38;5;241m=\u001b[39m \u001b[38;5;28;01mTrue\u001b[39;00m\n\u001b[1;32m      7\u001b[0m \u001b[38;5;28;01mreturn\u001b[39;00m optact,optdone\n",
      "\u001b[0;31mValueError\u001b[0m: The truth value of an array with more than one element is ambiguous. Use a.any() or a.all()"
     ]
    }
   ],
   "source": [
    "# Iterate over episodes\n",
    "for episode in tqdm(range(EPS)):\n",
    "    state, _ = env.reset()\n",
    "    done = False\n",
    "    total_reward = 0\n",
    "    steps = 0\n",
    "    state = get_state(state)\n",
    "    while not done and steps < MAX_STEPS:\n",
    "\n",
    "\n",
    "        steps += 1\n",
    "        action = choose_action(Q,state)\n",
    "        if action < 4:\n",
    "            next_state, reward, done, _, _ = env.step(action)\n",
    "            next_state = get_state(next_state)\n",
    "            Q[state[0],state[1], action] = Q[state[0],state[1], action] \n",
    "            + ALPHA * (reward + GAMMA * np.max(Q[next_state[0],next_state[1], :])\n",
    "                                                                  - Q[state[0],state[1], action])\n",
    "            total_reward += reward\n",
    "            state = next_state\n",
    "        \n",
    "        reward_bar = 0\n",
    "        if action > 3 and action < 8:\n",
    "            count = 0\n",
    "            optdone = False\n",
    "            current_state = state\n",
    "            while (optdone == False):\n",
    "\n",
    "                if action == 4:\n",
    "                    optact, optdone = Red(Q_r,state) \n",
    "                    q = Q_r\n",
    "                    \n",
    "                if action == 5:\n",
    "                    optact, optdone = Green(Q_g,state)\n",
    "                    q = Q_g\n",
    "                    \n",
    "                if action == 6:\n",
    "                    optact, optdone = Blue(Q_b,state)\n",
    "                    q = Q_b\n",
    "                    \n",
    "                if action == 7:\n",
    "                    optact, optdone = Yellow(Q_y,state)\n",
    "                    q = Q_y\n",
    "                    \n",
    "                next_state, reward, done, _, _ = env.step(optact)\n",
    "                next_state = get_state(next_state)\n",
    "                q[state[0],state[1], optact] = q[state[0],state[1], optact] \n",
    "                + ALPHA * (reward + GAMMA * np.max(q[next_state[0],next_state[1], :])\n",
    "                                                                  - q[state[0],state[1], optact])\n",
    "                \n",
    "                reward_bar = GAMMA*reward_bar + reward\n",
    "                count += 1\n",
    "                if optdone == True:\n",
    "                    Q[current_state[0],current_state[1], action] += ALPHA * (reward_bar \n",
    "                            - Q[current_state[0],current_state[1], action] \n",
    "                            + GAMMA**count * np.max(Q[next_state[0],next_state[1], :]))\n",
    "                state = next_state\n",
    "        \n",
    "\n",
    "    # Decay the exploration rate\n",
    "    exploration_rate = MIN_EXP + (1 - MIN_EXP) * np.exp(-EXP_DECAY * episode)\n",
    "\n",
    "    # Print the total reward for each episode\n",
    "    print(f\"Episode {episode + 1}: Total Reward = {total_reward}\")\n",
    "\n",
    "# Print the final Q-table\n",
    "print(\"Final Q-table:\")\n",
    "print(Q)"
   ]
  }
 ],
 "metadata": {
  "kernelspec": {
   "display_name": "Python 3",
   "language": "python",
   "name": "python3"
  },
  "language_info": {
   "codemirror_mode": {
    "name": "ipython",
    "version": 3
   },
   "file_extension": ".py",
   "mimetype": "text/x-python",
   "name": "python",
   "nbconvert_exporter": "python",
   "pygments_lexer": "ipython3",
   "version": "3.12.1"
  }
 },
 "nbformat": 4,
 "nbformat_minor": 2
}

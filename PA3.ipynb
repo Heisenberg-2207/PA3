{
 "cells": [
  {
   "cell_type": "code",
   "execution_count": 1,
   "metadata": {},
   "outputs": [],
   "source": [
    "import numpy as np\n",
    "from tqdm import tqdm\n",
    "import gym\n",
    "import math\n",
    "import random\n",
    "import matplotlib.pyplot as plt"
   ]
  },
  {
   "cell_type": "code",
   "execution_count": 2,
   "metadata": {},
   "outputs": [
    {
     "data": {
      "text/plain": [
       "(101, {'prob': 1.0, 'action_mask': array([1, 1, 1, 0, 0, 0], dtype=int8)})"
      ]
     },
     "execution_count": 2,
     "metadata": {},
     "output_type": "execute_result"
    }
   ],
   "source": [
    "env = gym.make('Taxi-v3')\n",
    "num_actions = env.action_space\n",
    "num_obs = env.observation_space\n",
    "R, G, B, Y = env.unwrapped.locs\n",
    "R, G, B, Y = list(R), list(G), list(B), list(Y)\n",
    "env.reset()"
   ]
  },
  {
   "cell_type": "code",
   "execution_count": 3,
   "metadata": {},
   "outputs": [
    {
     "name": "stdout",
     "output_type": "stream",
     "text": [
      "[0, 0] [0, 4] [4, 0] [4, 3]\n"
     ]
    }
   ],
   "source": [
    "def get_passenger_position(passenger_id):\n",
    "    if passenger_id == 0:  \n",
    "        return R\n",
    "    elif passenger_id == 1:  \n",
    "        return G\n",
    "    elif passenger_id == 2:  \n",
    "        return B\n",
    "    elif passenger_id == 3:  \n",
    "        return Y\n",
    "    \n",
    "    \n",
    "def get_state(state):\n",
    "    row, col, pass_id, dest_id = env.unwrapped.decode(state)\n",
    "    state = np.asarray([row,col,pass_id,dest_id])\n",
    "    return state\n",
    "\n",
    "print(R,G,B,Y)"
   ]
  },
  {
   "cell_type": "code",
   "execution_count": 4,
   "metadata": {},
   "outputs": [
    {
     "name": "stdout",
     "output_type": "stream",
     "text": [
      "Taxi at [1 0]\n",
      "Passenger at [0, 4]\n",
      "Destination [0, 0]\n",
      "0\n"
     ]
    }
   ],
   "source": [
    "curr_state = get_state(env.s)\n",
    "pass_pose = get_passenger_position(curr_state[2])\n",
    "dest_pose = get_passenger_position(curr_state[3])\n",
    "print(\"Taxi at\",curr_state[0:2])\n",
    "print(\"Passenger at\",dest_pose)\n",
    "print(\"Destination\",pass_pose)\n",
    "next_state, reward, done, _, _ = env.step(4)\n",
    "row, col, pass_id, dest_id = env.unwrapped.decode(next_state)\n",
    "print(curr_state[2])"
   ]
  },
  {
   "cell_type": "code",
   "execution_count": 5,
   "metadata": {},
   "outputs": [],
   "source": [
    "q_r = np.zeros((500,6))\n",
    "q_b = np.zeros((500,6))\n",
    "q_g = np.zeros((500,6))\n",
    "q_y = np.zeros((500,6))\n",
    "q = np.zeros((500,10))"
   ]
  },
  {
   "cell_type": "code",
   "execution_count": 6,
   "metadata": {},
   "outputs": [],
   "source": [
    "# Set the number of episodes and maximum number of steps per episode\n",
    "EPS = 10000\n",
    "MAX_STEPS = 100\n",
    "\n",
    "# Set the learning rate, discount factor, and exploration rate\n",
    "ALPHA = 0.05\n",
    "GAMMA = 0.99\n",
    "exploration_rate = 1.0\n",
    "MIN_EXP = 0.01\n",
    "EXP_DECAY = 0.01"
   ]
  },
  {
   "cell_type": "code",
   "execution_count": 7,
   "metadata": {},
   "outputs": [],
   "source": [
    "# Four different q value functions for the four options\n",
    "def choose_action_red(state,q_r):\n",
    "    action = np.argmax(q_r[state])\n",
    "    return action\n",
    "\n",
    "def choose_action_blue(state,q_b):\n",
    "    action = np.argmax(q_b[state])\n",
    "    return action\n",
    "\n",
    "def choose_action_green(state,q_g):\n",
    "    action = np.argmax(q_g[state])\n",
    "    return action\n",
    "\n",
    "def choose_action_yellow(state,q_y):\n",
    "    action = np.argmax(q_y[state])\n",
    "    return action\n",
    "\n",
    "def choose_action(q,state):\n",
    "    if not q[state].any():\n",
    "        return random.randint(0,7)\n",
    "    action = np.argmax(q[state])\n",
    "    \n",
    "    if np.random.rand() < exploration_rate:\n",
    "        action = np.random.randint(0,7)\n",
    "        return action\n",
    "    return action\n",
    "\n",
    "    "
   ]
  },
  {
   "cell_type": "code",
   "execution_count": 8,
   "metadata": {},
   "outputs": [],
   "source": [
    "# Options where policy is greedy wrt the corresponding q Value function\n",
    "def Red(q_r,state):\n",
    "    optdone = False\n",
    "    optact = choose_action_red(state,q_r)\n",
    "    state = get_state(state)\n",
    "    if state[0:2] is R:\n",
    "        optdone = True\n",
    "    return optact,optdone\n",
    "\n",
    "def Green(q_g,state):\n",
    "    optdone = False\n",
    "    optact = choose_action_green(state,q_g)\n",
    "    state = get_state(state)\n",
    "    if state[0:2] is G:\n",
    "        optdone = True\n",
    "    return optact,optdone\n",
    "    \n",
    "def Yellow(q_y,state):\n",
    "    optdone = False\n",
    "    optact = choose_action_green(state,q_y)\n",
    "    state = get_state(state)\n",
    "    if state[0:2] is Y:\n",
    "        optdone = True\n",
    "    return optact,optdone \n",
    "\n",
    "def Blue(q_b,state):\n",
    "    optdone = False\n",
    "    optact = choose_action_green(state,q_b)\n",
    "    state = get_state(state)\n",
    "    if state[0:2] is B:\n",
    "        optdone = True\n",
    "    return optact,optdone "
   ]
  },
  {
   "cell_type": "code",
   "execution_count": 9,
   "metadata": {},
   "outputs": [
    {
     "name": "stdout",
     "output_type": "stream",
     "text": [
      "Episode 1: Total Reward = -353\n",
      "Episode 2: Total Reward = -272\n",
      "Episode 3: Total Reward = -321\n",
      "Episode 4: Total Reward = -316\n",
      "Episode 5: Total Reward = -363\n",
      "Episode 6: Total Reward = -364\n",
      "Episode 7: Total Reward = -335\n",
      "Episode 8: Total Reward = -404\n",
      "Episode 9: Total Reward = -375\n",
      "Episode 10: Total Reward = -240\n",
      "Episode 11: Total Reward = -256\n",
      "Episode 12: Total Reward = -286\n",
      "Episode 13: Total Reward = -292\n",
      "Episode 14: Total Reward = -315\n",
      "Episode 15: Total Reward = -234\n",
      "Episode 16: Total Reward = -237\n",
      "Episode 17: Total Reward = -298\n",
      "Episode 18: Total Reward = -318\n",
      "Episode 19: Total Reward = -240\n"
     ]
    },
    {
     "ename": "KeyboardInterrupt",
     "evalue": "",
     "output_type": "error",
     "traceback": [
      "\u001b[0;31m---------------------------------------------------------------------------\u001b[0m",
      "\u001b[0;31mKeyboardInterrupt\u001b[0m                         Traceback (most recent call last)",
      "Cell \u001b[0;32mIn[9], line 26\u001b[0m\n\u001b[1;32m     24\u001b[0m \u001b[38;5;28;01mif\u001b[39;00m action \u001b[38;5;241m==\u001b[39m \u001b[38;5;241m6\u001b[39m:\n\u001b[1;32m     25\u001b[0m     optact, optdone \u001b[38;5;241m=\u001b[39m Red(q_r,state) \n\u001b[0;32m---> 26\u001b[0m     next_state, reward, done, _, _ \u001b[38;5;241m=\u001b[39m \u001b[43menv\u001b[49m\u001b[38;5;241;43m.\u001b[39;49m\u001b[43mstep\u001b[49m\u001b[43m(\u001b[49m\u001b[43moptact\u001b[49m\u001b[43m)\u001b[49m\n\u001b[1;32m     27\u001b[0m     q_r[state,optact] \u001b[38;5;241m=\u001b[39m q_r[state, optact] \n\u001b[1;32m     28\u001b[0m     \u001b[38;5;241m+\u001b[39m ALPHA \u001b[38;5;241m*\u001b[39m (reward \u001b[38;5;241m+\u001b[39m GAMMA \u001b[38;5;241m*\u001b[39m np\u001b[38;5;241m.\u001b[39mmax(q_r[next_state, :])\n\u001b[1;32m     29\u001b[0m                                                   \u001b[38;5;241m-\u001b[39m q_r[state, optact])\n",
      "File \u001b[0;32m~/.local/lib/python3.10/site-packages/gym/wrappers/time_limit.py:50\u001b[0m, in \u001b[0;36mTimeLimit.step\u001b[0;34m(self, action)\u001b[0m\n\u001b[1;32m     39\u001b[0m \u001b[38;5;28;01mdef\u001b[39;00m \u001b[38;5;21mstep\u001b[39m(\u001b[38;5;28mself\u001b[39m, action):\n\u001b[1;32m     40\u001b[0m     \u001b[38;5;124;03m\"\"\"Steps through the environment and if the number of steps elapsed exceeds ``max_episode_steps`` then truncate.\u001b[39;00m\n\u001b[1;32m     41\u001b[0m \n\u001b[1;32m     42\u001b[0m \u001b[38;5;124;03m    Args:\u001b[39;00m\n\u001b[0;32m   (...)\u001b[0m\n\u001b[1;32m     48\u001b[0m \n\u001b[1;32m     49\u001b[0m \u001b[38;5;124;03m    \"\"\"\u001b[39;00m\n\u001b[0;32m---> 50\u001b[0m     observation, reward, terminated, truncated, info \u001b[38;5;241m=\u001b[39m \u001b[38;5;28;43mself\u001b[39;49m\u001b[38;5;241;43m.\u001b[39;49m\u001b[43menv\u001b[49m\u001b[38;5;241;43m.\u001b[39;49m\u001b[43mstep\u001b[49m\u001b[43m(\u001b[49m\u001b[43maction\u001b[49m\u001b[43m)\u001b[49m\n\u001b[1;32m     51\u001b[0m     \u001b[38;5;28mself\u001b[39m\u001b[38;5;241m.\u001b[39m_elapsed_steps \u001b[38;5;241m+\u001b[39m\u001b[38;5;241m=\u001b[39m \u001b[38;5;241m1\u001b[39m\n\u001b[1;32m     53\u001b[0m     \u001b[38;5;28;01mif\u001b[39;00m \u001b[38;5;28mself\u001b[39m\u001b[38;5;241m.\u001b[39m_elapsed_steps \u001b[38;5;241m>\u001b[39m\u001b[38;5;241m=\u001b[39m \u001b[38;5;28mself\u001b[39m\u001b[38;5;241m.\u001b[39m_max_episode_steps:\n",
      "File \u001b[0;32m~/.local/lib/python3.10/site-packages/gym/wrappers/order_enforcing.py:37\u001b[0m, in \u001b[0;36mOrderEnforcing.step\u001b[0;34m(self, action)\u001b[0m\n\u001b[1;32m     35\u001b[0m \u001b[38;5;28;01mif\u001b[39;00m \u001b[38;5;129;01mnot\u001b[39;00m \u001b[38;5;28mself\u001b[39m\u001b[38;5;241m.\u001b[39m_has_reset:\n\u001b[1;32m     36\u001b[0m     \u001b[38;5;28;01mraise\u001b[39;00m ResetNeeded(\u001b[38;5;124m\"\u001b[39m\u001b[38;5;124mCannot call env.step() before calling env.reset()\u001b[39m\u001b[38;5;124m\"\u001b[39m)\n\u001b[0;32m---> 37\u001b[0m \u001b[38;5;28;01mreturn\u001b[39;00m \u001b[38;5;28;43mself\u001b[39;49m\u001b[38;5;241;43m.\u001b[39;49m\u001b[43menv\u001b[49m\u001b[38;5;241;43m.\u001b[39;49m\u001b[43mstep\u001b[49m\u001b[43m(\u001b[49m\u001b[43maction\u001b[49m\u001b[43m)\u001b[49m\n",
      "File \u001b[0;32m~/.local/lib/python3.10/site-packages/gym/wrappers/env_checker.py:39\u001b[0m, in \u001b[0;36mPassiveEnvChecker.step\u001b[0;34m(self, action)\u001b[0m\n\u001b[1;32m     37\u001b[0m     \u001b[38;5;28;01mreturn\u001b[39;00m env_step_passive_checker(\u001b[38;5;28mself\u001b[39m\u001b[38;5;241m.\u001b[39menv, action)\n\u001b[1;32m     38\u001b[0m \u001b[38;5;28;01melse\u001b[39;00m:\n\u001b[0;32m---> 39\u001b[0m     \u001b[38;5;28;01mreturn\u001b[39;00m \u001b[38;5;28;43mself\u001b[39;49m\u001b[38;5;241;43m.\u001b[39;49m\u001b[43menv\u001b[49m\u001b[38;5;241;43m.\u001b[39;49m\u001b[43mstep\u001b[49m\u001b[43m(\u001b[49m\u001b[43maction\u001b[49m\u001b[43m)\u001b[49m\n",
      "File \u001b[0;32m~/.local/lib/python3.10/site-packages/gym/envs/toy_text/taxi.py:256\u001b[0m, in \u001b[0;36mTaxiEnv.step\u001b[0;34m(self, a)\u001b[0m\n\u001b[1;32m    254\u001b[0m \u001b[38;5;28;01mdef\u001b[39;00m \u001b[38;5;21mstep\u001b[39m(\u001b[38;5;28mself\u001b[39m, a):\n\u001b[1;32m    255\u001b[0m     transitions \u001b[38;5;241m=\u001b[39m \u001b[38;5;28mself\u001b[39m\u001b[38;5;241m.\u001b[39mP[\u001b[38;5;28mself\u001b[39m\u001b[38;5;241m.\u001b[39ms][a]\n\u001b[0;32m--> 256\u001b[0m     i \u001b[38;5;241m=\u001b[39m \u001b[43mcategorical_sample\u001b[49m\u001b[43m(\u001b[49m\u001b[43m[\u001b[49m\u001b[43mt\u001b[49m\u001b[43m[\u001b[49m\u001b[38;5;241;43m0\u001b[39;49m\u001b[43m]\u001b[49m\u001b[43m \u001b[49m\u001b[38;5;28;43;01mfor\u001b[39;49;00m\u001b[43m \u001b[49m\u001b[43mt\u001b[49m\u001b[43m \u001b[49m\u001b[38;5;129;43;01min\u001b[39;49;00m\u001b[43m \u001b[49m\u001b[43mtransitions\u001b[49m\u001b[43m]\u001b[49m\u001b[43m,\u001b[49m\u001b[43m \u001b[49m\u001b[38;5;28;43mself\u001b[39;49m\u001b[38;5;241;43m.\u001b[39;49m\u001b[43mnp_random\u001b[49m\u001b[43m)\u001b[49m\n\u001b[1;32m    257\u001b[0m     p, s, r, t \u001b[38;5;241m=\u001b[39m transitions[i]\n\u001b[1;32m    258\u001b[0m     \u001b[38;5;28mself\u001b[39m\u001b[38;5;241m.\u001b[39ms \u001b[38;5;241m=\u001b[39m s\n",
      "File \u001b[0;32m~/.local/lib/python3.10/site-packages/gym/envs/toy_text/utils.py:7\u001b[0m, in \u001b[0;36mcategorical_sample\u001b[0;34m(prob_n, np_random)\u001b[0m\n\u001b[1;32m      5\u001b[0m \u001b[38;5;124;03m\"\"\"Sample from categorical distribution where each row specifies class probabilities.\"\"\"\u001b[39;00m\n\u001b[1;32m      6\u001b[0m prob_n \u001b[38;5;241m=\u001b[39m np\u001b[38;5;241m.\u001b[39masarray(prob_n)\n\u001b[0;32m----> 7\u001b[0m csprob_n \u001b[38;5;241m=\u001b[39m \u001b[43mnp\u001b[49m\u001b[38;5;241;43m.\u001b[39;49m\u001b[43mcumsum\u001b[49m\u001b[43m(\u001b[49m\u001b[43mprob_n\u001b[49m\u001b[43m)\u001b[49m\n\u001b[1;32m      8\u001b[0m \u001b[38;5;28;01mreturn\u001b[39;00m np\u001b[38;5;241m.\u001b[39margmax(csprob_n \u001b[38;5;241m>\u001b[39m np_random\u001b[38;5;241m.\u001b[39mrandom())\n",
      "File \u001b[0;32m<__array_function__ internals>:180\u001b[0m, in \u001b[0;36mcumsum\u001b[0;34m(*args, **kwargs)\u001b[0m\n",
      "File \u001b[0;32m~/.local/lib/python3.10/site-packages/numpy/core/fromnumeric.py:2571\u001b[0m, in \u001b[0;36mcumsum\u001b[0;34m(a, axis, dtype, out)\u001b[0m\n\u001b[1;32m   2497\u001b[0m \u001b[38;5;129m@array_function_dispatch\u001b[39m(_cumsum_dispatcher)\n\u001b[1;32m   2498\u001b[0m \u001b[38;5;28;01mdef\u001b[39;00m \u001b[38;5;21mcumsum\u001b[39m(a, axis\u001b[38;5;241m=\u001b[39m\u001b[38;5;28;01mNone\u001b[39;00m, dtype\u001b[38;5;241m=\u001b[39m\u001b[38;5;28;01mNone\u001b[39;00m, out\u001b[38;5;241m=\u001b[39m\u001b[38;5;28;01mNone\u001b[39;00m):\n\u001b[1;32m   2499\u001b[0m     \u001b[38;5;124;03m\"\"\"\u001b[39;00m\n\u001b[1;32m   2500\u001b[0m \u001b[38;5;124;03m    Return the cumulative sum of the elements along a given axis.\u001b[39;00m\n\u001b[1;32m   2501\u001b[0m \n\u001b[0;32m   (...)\u001b[0m\n\u001b[1;32m   2569\u001b[0m \n\u001b[1;32m   2570\u001b[0m \u001b[38;5;124;03m    \"\"\"\u001b[39;00m\n\u001b[0;32m-> 2571\u001b[0m     \u001b[38;5;28;01mreturn\u001b[39;00m \u001b[43m_wrapfunc\u001b[49m\u001b[43m(\u001b[49m\u001b[43ma\u001b[49m\u001b[43m,\u001b[49m\u001b[43m \u001b[49m\u001b[38;5;124;43m'\u001b[39;49m\u001b[38;5;124;43mcumsum\u001b[39;49m\u001b[38;5;124;43m'\u001b[39;49m\u001b[43m,\u001b[49m\u001b[43m \u001b[49m\u001b[43maxis\u001b[49m\u001b[38;5;241;43m=\u001b[39;49m\u001b[43maxis\u001b[49m\u001b[43m,\u001b[49m\u001b[43m \u001b[49m\u001b[43mdtype\u001b[49m\u001b[38;5;241;43m=\u001b[39;49m\u001b[43mdtype\u001b[49m\u001b[43m,\u001b[49m\u001b[43m \u001b[49m\u001b[43mout\u001b[49m\u001b[38;5;241;43m=\u001b[39;49m\u001b[43mout\u001b[49m\u001b[43m)\u001b[49m\n",
      "File \u001b[0;32m~/.local/lib/python3.10/site-packages/numpy/core/fromnumeric.py:51\u001b[0m, in \u001b[0;36m_wrapfunc\u001b[0;34m(obj, method, *args, **kwds)\u001b[0m\n\u001b[1;32m     47\u001b[0m         result \u001b[38;5;241m=\u001b[39m wrap(result)\n\u001b[1;32m     48\u001b[0m     \u001b[38;5;28;01mreturn\u001b[39;00m result\n\u001b[0;32m---> 51\u001b[0m \u001b[38;5;28;01mdef\u001b[39;00m \u001b[38;5;21m_wrapfunc\u001b[39m(obj, method, \u001b[38;5;241m*\u001b[39margs, \u001b[38;5;241m*\u001b[39m\u001b[38;5;241m*\u001b[39mkwds):\n\u001b[1;32m     52\u001b[0m     bound \u001b[38;5;241m=\u001b[39m \u001b[38;5;28mgetattr\u001b[39m(obj, method, \u001b[38;5;28;01mNone\u001b[39;00m)\n\u001b[1;32m     53\u001b[0m     \u001b[38;5;28;01mif\u001b[39;00m bound \u001b[38;5;129;01mis\u001b[39;00m \u001b[38;5;28;01mNone\u001b[39;00m:\n",
      "\u001b[0;31mKeyboardInterrupt\u001b[0m: "
     ]
    }
   ],
   "source": [
    "# Iterate over episodes\n",
    "for episode in range(EPS):\n",
    "    state, _ = env.reset()\n",
    "    done = False\n",
    "    total_reward = 0\n",
    "    steps = 0\n",
    "    while not done and steps < MAX_STEPS:\n",
    "        steps += 1\n",
    "        action = choose_action(q,state)\n",
    "        if action < 6:\n",
    "            next_state, reward, done, _, _ = env.step(action)\n",
    "            q[state,action] = q[state, action] \n",
    "            + ALPHA * (reward + GAMMA * np.max(q[next_state, :])\n",
    "                                                                  - q[state, action])\n",
    "            total_reward += reward\n",
    "            state = next_state\n",
    "        \n",
    "        reward_bar = 0\n",
    "        if action > 5 and action < 10:\n",
    "            count = 0\n",
    "            optdone = False\n",
    "            current_state = state\n",
    "            while (optdone == False) and count < 500:\n",
    "                if action == 6:\n",
    "                    optact, optdone = Red(q_r,state) \n",
    "                    next_state, reward, done, _, _ = env.step(optact)\n",
    "                    q_r[state,optact] = q_r[state, optact] \n",
    "                    + ALPHA * (reward + GAMMA * np.max(q_r[next_state, :])\n",
    "                                                                  - q_r[state, optact])\n",
    "                    \n",
    "                if action == 7:\n",
    "                    optact, optdone = Green(q_g,state)\n",
    "                    next_state, reward, done, _, _ = env.step(optact)\n",
    "                    q_g[state,optact] = q_g[state, optact] \n",
    "                    + ALPHA * (reward + GAMMA * np.max(q_g[next_state, :])\n",
    "                                                                  - q_g[state, optact])\n",
    "                    \n",
    "                if action == 8:\n",
    "                    optact, optdone = Blue(q_b,state)\n",
    "                    \n",
    "                    next_state, reward, done, _, _ = env.step(optact)\n",
    "                    q_b[state,optact] = q_b[state, optact] \n",
    "                    + ALPHA * (reward + GAMMA * np.max(q_b[next_state, :])\n",
    "                                                                  - q_b[state, optact])\n",
    "                    \n",
    "                if action == 9:\n",
    "                    optact, optdone = Yellow(q_y,state)\n",
    "                    next_state, reward, done, _, _ = env.step(optact)\n",
    "                    q_y[state,optact] = q_y[state, optact] \n",
    "                    + ALPHA * (reward + GAMMA * np.max(q_y[next_state, :])\n",
    "                                                                  - q_y[state, optact])\n",
    "                    \n",
    "                reward_bar = reward_bar + GAMMA*reward\n",
    "                count += 1\n",
    "                if optdone == True:\n",
    "                    q[current_state, action] += ALPHA * (reward_bar \n",
    "                            - q[current_state, action] \n",
    "                            + GAMMA**count * np.max(q[next_state, :]))\n",
    "                    print(\"DONE\")\n",
    "                state = next_state\n",
    "        \n",
    "\n",
    "    # Decay the exploration rate\n",
    "    exploration_rate = MIN_EXP + (1 - MIN_EXP) * np.exp(-EXP_DECAY * episode)\n",
    "\n",
    "    # Print the total reward for each episode\n",
    "    print(f\"Episode {episode + 1}: Total Reward = {total_reward}\")\n",
    "\n",
    "# Print the final q-table\n",
    "print(\"Final q-table:\")\n",
    "print(q)"
   ]
  }
 ],
 "metadata": {
  "kernelspec": {
   "display_name": "Python 3",
   "language": "python",
   "name": "python3"
  },
  "language_info": {
   "codemirror_mode": {
    "name": "ipython",
    "version": 3
   },
   "file_extension": ".py",
   "mimetype": "text/x-python",
   "name": "python",
   "nbconvert_exporter": "python",
   "pygments_lexer": "ipython3",
   "version": "3.10.12"
  }
 },
 "nbformat": 4,
 "nbformat_minor": 2
}
